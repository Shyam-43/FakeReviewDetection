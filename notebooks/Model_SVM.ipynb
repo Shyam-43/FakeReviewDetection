{
 "cells": [
  {
   "cell_type": "code",
   "execution_count": 1,
   "id": "8bcb468b-1820-4c96-964f-9498e01e5cd3",
   "metadata": {},
   "outputs": [],
   "source": [
    "# Import Libraries\n",
    "import pandas as pd\n",
    "from sklearn.feature_extraction.text import TfidfVectorizer\n",
    "from sklearn.model_selection import train_test_split\n",
    "from sklearn.svm import SVC\n",
    "from sklearn.metrics import classification_report, accuracy_score, confusion_matrix\n",
    "from imblearn.over_sampling import SMOTE\n",
    "from sklearn.preprocessing import LabelEncoder\n",
    "import joblib"
   ]
  },
  {
   "cell_type": "code",
   "execution_count": 2,
   "id": "37cf5ce0-c2bc-4527-8067-72a9759eb0b0",
   "metadata": {},
   "outputs": [
    {
     "name": "stdout",
     "output_type": "stream",
     "text": [
      "Dataset Loaded Successfully!\n",
      "             category  rating label  \\\n",
      "0  Home_and_Kitchen_5     5.0    CG   \n",
      "1  Home_and_Kitchen_5     5.0    CG   \n",
      "2  Home_and_Kitchen_5     5.0    CG   \n",
      "3  Home_and_Kitchen_5     1.0    CG   \n",
      "4  Home_and_Kitchen_5     5.0    CG   \n",
      "\n",
      "                                            text_  \n",
      "0  love well made sturdi comfort love veri pretti  \n",
      "1        love great upgrad origin mine coupl year  \n",
      "2      thi pillow save back love look feel pillow  \n",
      "3             miss inform use great product price  \n",
      "4        veri nice set good qualiti set two month  \n"
     ]
    }
   ],
   "source": [
    "# Step 1: Load Preprocessed Dataset\n",
    "file_path = \"preprocessed_dataset.csv\"  \n",
    "data = pd.read_csv(file_path)\n",
    "\n",
    "# Display the first few rows to verify the dataset\n",
    "print(\"Dataset Loaded Successfully!\")\n",
    "print(data.head())\n"
   ]
  },
  {
   "cell_type": "code",
   "execution_count": 3,
   "id": "c72bb1cf-2086-4e96-bfdc-578cc48fb381",
   "metadata": {},
   "outputs": [
    {
     "name": "stdout",
     "output_type": "stream",
     "text": [
      "Label Encoding Mapping:\n",
      "{'CG': 0, 'OR': 1}\n"
     ]
    }
   ],
   "source": [
    "# Step 2: Encode Target Labels\n",
    "label_encoder = LabelEncoder()\n",
    "data['label'] = label_encoder.fit_transform(data['label'])  \n",
    "\n",
    "# Display the label mapping\n",
    "print(\"Label Encoding Mapping:\")\n",
    "print(dict(zip(label_encoder.classes_, label_encoder.transform(label_encoder.classes_))))\n"
   ]
  },
  {
   "cell_type": "code",
   "execution_count": 4,
   "id": "54ec5379-7053-490f-b555-0723d83a6a89",
   "metadata": {},
   "outputs": [
    {
     "name": "stdout",
     "output_type": "stream",
     "text": [
      "Feature Matrix Shape: (40431, 10000)\n"
     ]
    }
   ],
   "source": [
    "# Step 3: Feature Engineering with TF-IDF\n",
    "vectorizer = TfidfVectorizer(\n",
    "    max_features=10000,  \n",
    "    ngram_range=(1, 2),  \n",
    "    max_df=0.9,  \n",
    "    min_df=2 \n",
    ")\n",
    "\n",
    "# Fit and transform the text data\n",
    "X = vectorizer.fit_transform(data['text_'])  \n",
    "y = data['label']\n",
    "\n",
    "# Verify the feature matrix shape\n",
    "print(\"Feature Matrix Shape:\", X.shape)\n"
   ]
  },
  {
   "cell_type": "code",
   "execution_count": 5,
   "id": "19559584-e9a6-4550-8aaa-06e8eca72f52",
   "metadata": {},
   "outputs": [],
   "source": [
    "# Step 4: Address Class Imbalance with SMOTE\n",
    "smote = SMOTE()\n",
    "X_resampled, y_resampled = smote.fit_resample(X, y)\n"
   ]
  },
  {
   "cell_type": "code",
   "execution_count": 6,
   "id": "5f8a0634-2a28-4a62-ba08-fae95f48c2ae",
   "metadata": {},
   "outputs": [
    {
     "name": "stdout",
     "output_type": "stream",
     "text": [
      "Training set size: 32345\n",
      "Testing set size: 8087\n"
     ]
    }
   ],
   "source": [
    "# Step 5: Split the Dataset\n",
    "X_train, X_test, y_train, y_test = train_test_split(X_resampled, y_resampled, test_size=0.2, random_state=42)\n",
    "\n",
    "print(\"Training set size:\", X_train.shape[0])\n",
    "print(\"Testing set size:\", X_test.shape[0])\n"
   ]
  },
  {
   "cell_type": "code",
   "execution_count": 7,
   "id": "0ac70e5a-75f1-45c0-b2b7-b6db9e613384",
   "metadata": {},
   "outputs": [
    {
     "name": "stdout",
     "output_type": "stream",
     "text": [
      "Training the SVM model...\n",
      "Model Training Completed!\n"
     ]
    }
   ],
   "source": [
    "# Step 6: Train SVM Model\n",
    "svm_model = SVC(\n",
    "    kernel='linear',  \n",
    "    C=1.0,  \n",
    "    random_state=42\n",
    ")\n",
    "\n",
    "print(\"Training the SVM model...\")\n",
    "svm_model.fit(X_train, y_train)\n",
    "print(\"Model Training Completed!\")\n"
   ]
  },
  {
   "cell_type": "code",
   "execution_count": 8,
   "id": "5dba4a00-f7ea-4a8e-8d74-7a56343d9976",
   "metadata": {},
   "outputs": [
    {
     "name": "stdout",
     "output_type": "stream",
     "text": [
      "\n",
      "Classification Report:\n",
      "               precision    recall  f1-score   support\n",
      "\n",
      "           0       0.91      0.90      0.90      4021\n",
      "           1       0.90      0.91      0.91      4066\n",
      "\n",
      "    accuracy                           0.90      8087\n",
      "   macro avg       0.90      0.90      0.90      8087\n",
      "weighted avg       0.90      0.90      0.90      8087\n",
      "\n",
      "Accuracy: 0.90\n",
      "Confusion Matrix:\n",
      " [[3613  408]\n",
      " [ 367 3699]]\n"
     ]
    }
   ],
   "source": [
    "# Step 7: Evaluate the Model\n",
    "y_pred = svm_model.predict(X_test)\n",
    "print(\"\\nClassification Report:\\n\", classification_report(y_test, y_pred))\n",
    "print(f\"Accuracy: {accuracy_score(y_test, y_pred):.2f}\")\n",
    "print(\"Confusion Matrix:\\n\", confusion_matrix(y_test, y_pred))\n"
   ]
  },
  {
   "cell_type": "code",
   "execution_count": 9,
   "id": "603f2dd1-34e7-4763-9131-2ca8a2889b87",
   "metadata": {},
   "outputs": [
    {
     "data": {
      "text/plain": [
       "['tfidf_vectorizer.pkl']"
      ]
     },
     "execution_count": 9,
     "metadata": {},
     "output_type": "execute_result"
    }
   ],
   "source": [
    "# Step 8: Save the Model and Vectorizer\n",
    "joblib.dump(svm_model, \"svm_model.pkl\")\n",
    "joblib.dump(vectorizer, \"tfidf_vectorizer.pkl\")\n"
   ]
  },
  {
   "cell_type": "code",
   "execution_count": null,
   "id": "ba9b707d-7013-4a2b-91e4-695636e82246",
   "metadata": {},
   "outputs": [],
   "source": []
  }
 ],
 "metadata": {
  "kernelspec": {
   "display_name": "Python 3 (ipykernel)",
   "language": "python",
   "name": "python3"
  },
  "language_info": {
   "codemirror_mode": {
    "name": "ipython",
    "version": 3
   },
   "file_extension": ".py",
   "mimetype": "text/x-python",
   "name": "python",
   "nbconvert_exporter": "python",
   "pygments_lexer": "ipython3",
   "version": "3.12.4"
  }
 },
 "nbformat": 4,
 "nbformat_minor": 5
}
